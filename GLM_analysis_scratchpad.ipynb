{
 "cells": [
  {
   "cell_type": "code",
   "execution_count": 1,
   "metadata": {},
   "outputs": [],
   "source": [
    "import numpy as np\n",
    "import matplotlib.pyplot as plt\n",
    "import os\n",
    "import scipy.ndimage as spnd\n",
    "\n",
    "import utils as ut\n",
    "import plot as pt\n",
    "plt.rcParams.update({'font.size': 12,\n",
    "                     'axes.spines.right': False,\n",
    "                     'axes.spines.top':   False,\n",
    "                     'legend.frameon':    False,})\n",
    "\n",
    "%load_ext autoreload\n",
    "%autoreload 2"
   ]
  },
  {
   "cell_type": "markdown",
   "metadata": {},
   "source": [
    "### 1. Choose which dataset to use\n",
    "\n",
    " All datasets must be in the \"datasets\" folder."
   ]
  },
  {
   "cell_type": "code",
   "execution_count": 2,
   "metadata": {},
   "outputs": [],
   "source": [
    "# filename = \"SSTindivsomata_GLM\"\n",
    "filename = \"NDNFindivsomata_GLM\"\n",
    "# filename = \"EC_GLM\"\n",
    "\n",
    "filepath = os.path.join(\"datasets\", filename+\".mat\")\n",
    "activity_dict, factors_dict = ut.preprocess_data(filepath)\n",
    "filtered_factors_dict = ut.subset_variables_from_data(factors_dict, variables_to_keep=[\"Velocity\"])\n",
    "\n",
    "# animal = 'animal_1'\n",
    "# cell = 'cell_2'\n",
    "# GLM_params, predicted_activity_dict = ut.fit_GLM(filtered_factors_dict[animal], activity_dict[animal][cell], regression='ridge')\n",
    "\n",
    "GLM_params, predicted_activity_dict = ut.fit_GLM_population(filtered_factors_dict, activity_dict, quintile=None, regression='ridge', renormalize=True, alphas=None)\n",
    "residual_activity_dict = ut.get_residual_activity_dict(activity_dict, predicted_activity_dict)\n"
   ]
  },
  {
   "cell_type": "markdown",
   "metadata": {},
   "source": [
    "### Lick predictions"
   ]
  },
  {
   "cell_type": "code",
   "execution_count": null,
   "metadata": {},
   "outputs": [],
   "source": [
    "# filename = \"SSTindivsomata_GLM\"\n",
    "# filename = \"NDNFindivsomata_GLM\"\n",
    "filename = \"EC_GLM\"\n",
    "\n",
    "filepath = os.path.join(\"datasets\", filename+\".mat\")\n",
    "activity_dict, factors_dict = ut.preprocess_data(filepath)\n",
    "\n",
    "filtered_factors_dict = ut.subset_variables_from_data(factors_dict, variables_to_keep=[\"Velocity\"])\n",
    "GLM_params, predicted_activity_dict = ut.fit_GLM_population(filtered_factors_dict, activity_dict, quintile=None, regression='linear', renormalize=True, alphas=None)\n",
    "residual_activity_dict = ut.get_residual_activity_dict(activity_dict, predicted_activity_dict)\n"
   ]
  },
  {
   "cell_type": "code",
   "execution_count": null,
   "metadata": {},
   "outputs": [],
   "source": [
    "# Get activity data in shape (trials x neurons x timebins)\n",
    "animal = 'animal_4'\n",
    "\n",
    "# SST 4,7\n",
    "# NDNF 2,\n",
    "# EC 4,1\n",
    "\n",
    "neural_data = []\n",
    "for cell, data in activity_dict[animal].items():\n",
    "    neural_data.append(data.T)\n",
    "neural_data = np.stack(neural_data, axis=1)\n",
    "\n",
    "# behavior_data = []\n",
    "# for behav_factor, data in factors_dict[animal].items():\n",
    "#     behavior_data.append(data.T)\n",
    "# behavior_data = np.stack(behavior_data, axis=1)\n",
    "\n",
    "behavior_data = factors_dict[animal]['Licks']\n",
    "\n",
    "animal_GLM_params, GLM_predicted_behavior = ut.fit_behavior_GLM(activity_dict[animal], behavior_data)\n",
    "mse = np.sum((GLM_predicted_behavior - behavior_data)**2, axis=1) / GLM_predicted_behavior.shape[1]\n",
    "\n",
    "plt.plot(mse)\n",
    "plt.ylabel('Lick GLM prediction error (MSE)')\n",
    "plt.xlabel('Trials')\n",
    "plt.title(animal)"
   ]
  },
  {
   "cell_type": "code",
   "execution_count": null,
   "metadata": {},
   "outputs": [],
   "source": [
    "def map_estimate(neural_data, lick_rate, prior_variance=1.0):\n",
    "    \"\"\"\n",
    "    Computes the Maximum A Posteriori (MAP) estimate of lick rate given neural activity using Bayesian linear regression.\n",
    "\n",
    "    Parameters:\n",
    "    - neural_data: np.ndarray of shape (num_neurons, timepoints), neural activity over time.\n",
    "    - lick_rate: np.ndarray of shape (timepoints,), observed lick rate over time.\n",
    "    - prior_variance: float, variance of the Gaussian prior on W.\n",
    "\n",
    "    Returns:\n",
    "    - map_lick_rate: np.ndarray of shape (timepoints,), MAP estimate of lick rate.\n",
    "    \"\"\"\n",
    "\n",
    "    num_neurons, timepoints = neural_data.shape\n",
    "\n",
    "    # Compute MAP estimate of W\n",
    "    X = neural_data  # (num_neurons, timepoints)\n",
    "    y = lick_rate.reshape(1, -1)  # (1, timepoints)\n",
    "\n",
    "    # Given a Gaussian prior on W, the MAP estimate of W is given by:\n",
    "    # W_map = (X*X^T + lambda*I)^-1 * X * y\n",
    "    # where lambda is prior precision (1/variance)\n",
    "\n",
    "    lambda_I = prior_variance * np.eye(num_neurons)  # Compute covariance matrix of the prior\n",
    "    W_map = np.linalg.inv(X @ X.T + lambda_I) @ X @ y.T  # (num_neurons, 1)\n",
    "\n",
    "    # Compute predicted lick rate\n",
    "    map_lick_rate = (W_map.T @ X).flatten()  # (timepoints,)\n",
    "\n",
    "    return map_lick_rate\n",
    "\n",
    "neural_data_flattened = neural_data.reshape(neural_data.shape[1], -1)\n",
    "map_lick_rate = map_estimate(neural_data_flattened, behavior_data)\n",
    "\n",
    "pearsonr = np.corrcoef(map_lick_rate, behavior_data.flatten())[0, 1]\n",
    "print(f\"pearson R: {pearsonr}\")\n",
    "# fig, ax = plt.subplots(1, 2, figsize=(12, 5))\n",
    "# ax[0].imshow(behavior_data.T, aspect='auto', cmap='gray_r')\n",
    "# ax[0].vlines(25,0,num_trials, color='r')\n",
    "# prediction = map_lick_rate.reshape(behavior_data.shape)\n",
    "# ax[1].imshow(prediction.T, aspect='auto', cmap='gray_r')\n",
    "# ax[1].vlines(25,0,num_trials, color='r')"
   ]
  },
  {
   "cell_type": "code",
   "execution_count": null,
   "metadata": {},
   "outputs": [],
   "source": [
    "num_trials = behavior_data.shape[1]\n",
    "lick_accuracy_list = []\n",
    "lick_window = 1\n",
    "reward_idx = 26\n",
    "for trial in range(num_trials):\n",
    "    licks_near_reward = behavior_data[reward_idx-lick_window:reward_idx+lick_window+1, trial]\n",
    "    licks_before_reward = behavior_data[0:reward_idx-lick_window, trial]\n",
    "    licks_after_reward = behavior_data[reward_idx+lick_window+1:, trial]\n",
    "    lick_accuracy = licks_near_reward.sum() / (licks_near_reward.sum() + licks_before_reward.sum() + licks_after_reward.sum()+1e-5)\n",
    "    lick_accuracy_list.append(lick_accuracy)\n",
    "\n",
    "fig, ax  = plt.subplots(1,5, figsize=(14,5))\n",
    "ax[0].imshow(behavior_data.T, cmap='gray_r', interpolation='none', aspect='auto')\n",
    "ax[0].vlines(25,0,num_trials, colors='r')\n",
    "ax[0].set_xlabel('Position')\n",
    "ax[0].set_ylabel('Trial Number')\n",
    "\n",
    "# plt.plot(lick_accuracy_list)\n",
    "smoothed_lick_accuracy_list = spnd.gaussian_filter1d(lick_accuracy_list, sigma=1)\n",
    "# smoothed_lick_accuracy_list = spnd.uniform_filter1d(lick_accuracy_list, size=5)\n",
    "ax[1].plot(smoothed_lick_accuracy_list)\n",
    "ax[1].set_xlabel('Trial Number')\n",
    "ax[1].set_ylabel('Lick Accuracy')\n",
    "\n",
    "pearsonr = np.corrcoef(behavior_data.flatten(), GLM_predicted_behavior.flatten())[0,1]\n",
    "ax[2].imshow(GLM_predicted_behavior.T, cmap='gray_r', interpolation='none', aspect='auto')\n",
    "ax[2].set_xlabel('Position')\n",
    "ax[2].set_ylabel('Trial Number')\n",
    "ax[2].vlines(25,0,num_trials, colors='r')\n",
    "ax[2].set_title(f'GLM Lick Prediction,\\nR={pearsonr:.2f}')\n",
    "\n",
    "prediction = map_lick_rate.reshape(behavior_data.shape)\n",
    "pearsonr = np.corrcoef(behavior_data.flatten(), prediction.flatten())[0,1]\n",
    "ax[3].imshow(prediction.T, cmap='gray_r', interpolation='none', aspect='auto')\n",
    "ax[3].set_xlabel('Position')\n",
    "ax[3].set_ylabel('Trial Number')\n",
    "ax[3].vlines(25,0,num_trials, color='r')\n",
    "ax[3].set_title(f'Bayesian Estimator,\\nR={pearsonr:.2f}')\n",
    "\n",
    "avg_prediction = (GLM_predicted_behavior + prediction)/2\n",
    "pearsonr = np.corrcoef(behavior_data.flatten(), avg_prediction.flatten())[0,1]\n",
    "avg_prediction = (avg_prediction - avg_prediction.min())/(avg_prediction.max() - avg_prediction.min())\n",
    "ax[4].imshow(avg_prediction.T, cmap='gray_r', interpolation='none', aspect='auto')\n",
    "ax[4].set_xlabel('Position')\n",
    "ax[4].set_ylabel('Trial Number')\n",
    "ax[4].vlines(25,0,num_trials, color='r')\n",
    "ax[4].set_title(f'Average prediction,\\nR={pearsonr:.2f}')\n",
    "cbar = plt.colorbar(ax[4].images[0], ax=ax[4])\n",
    "\n",
    "plt.suptitle(f\"{filename[0:4]}, Animal {animal.split('_')[-1]}\")\n",
    "plt.tight_layout()\n",
    "plt.show()\n"
   ]
  },
  {
   "cell_type": "code",
   "execution_count": null,
   "metadata": {},
   "outputs": [],
   "source": [
    "# Get activity data in shape (trials x neurons x timebins)\n",
    "print(activity_dict.keys())\n",
    "# animal = 'animal_1'\n",
    "\n",
    "neural_data = []\n",
    "for cell, data in activity_dict[animal].items():\n",
    "    neural_data.append(data.T)\n",
    "neural_data = np.stack(neural_data, axis=1)\n",
    "\n",
    "behavior_data = []\n",
    "for behav_factor, data in factors_dict[animal].items():\n",
    "    behavior_data.append(data.T)\n",
    "behavior_data = np.stack(behavior_data, axis=1)\n",
    "\n",
    "print(f\"num neurons: {neural_data.shape[1]}\")\n",
    "num_trials = neural_data.shape[0]\n",
    "num_neurons = min(neural_data.shape[1], 15)\n",
    "\n",
    "fig, ax = plt.subplots(1,num_neurons+2, figsize=(20,6))\n",
    "ax[0].imshow(behavior_data[:,0,:], cmap='gray_r', interpolation='none')\n",
    "ax[0].set_ylabel('trial')\n",
    "ax[0].set_title('Licks', fontsize=12)\n",
    "ax[1].imshow(behavior_data[:,2,:], cmap='inferno', interpolation='none')\n",
    "ax[1].set_title('Velocity', fontsize=12)\n",
    "ax[1].set_yticks([])\n",
    "for n in range(num_neurons):\n",
    "    ax[n+2].imshow(neural_data[:,n], cmap='magma', interpolation='none')\n",
    "    # ax[n].vlines(reward_loc, 0, num_trials, color='r', linestyle='--')\n",
    "    ax[n+2].set_title('Neuron {}'.format(n), fontsize=12)\n",
    "    ax[n+2].set_yticks([])\n",
    "plt.tight_layout()\n",
    "plt.show()\n"
   ]
  },
  {
   "cell_type": "code",
   "execution_count": null,
   "metadata": {},
   "outputs": [],
   "source": [
    "neural_data = []\n",
    "for cell, data in residual_activity_dict[animal].items():\n",
    "    neural_data.append(data.T)\n",
    "neural_data = np.stack(neural_data, axis=1)\n",
    "\n",
    "fig, ax = plt.subplots(1,num_neurons+1, figsize=(20,6))\n",
    "ax[0].imshow(behavior_data[:,0,:], cmap='gray_r', interpolation='none')\n",
    "ax[0].set_ylabel('trial')\n",
    "ax[0].set_title('Licks, '+f\"{filename[0:3]} Animal {animal.split('_')[-1]}\", fontsize=12)\n",
    "# ax[0].set_title('Licks', fontsize=12)\n",
    "# ax[1].imshow(behavior_data[:,2,:], cmap='bwr', interpolation='none')\n",
    "# ax[1].set_title('Velocity', fontsize=12)\n",
    "# ax[1].set_yticks([])\n",
    "for n in range(num_neurons):\n",
    "    ax[n+1].imshow(neural_data[:,n], cmap='magma', interpolation='none')\n",
    "    ax[n+1].set_title('Neuron {}'.format(n), fontsize=12)\n",
    "    ax[n+1].set_yticks([])\n",
    "plt.tight_layout()\n",
    "plt.show()\n"
   ]
  },
  {
   "cell_type": "code",
   "execution_count": null,
   "metadata": {},
   "outputs": [],
   "source": [
    "# Cluster/Sort neurons based on their similarity to each other \n",
    "\n",
    "# 1. Plot cosine similarity matrix (neural_data.shape = (n_neurons, n_timepoints))\n",
    "\n",
    "neural_data = neural_data.reshape(neural_data.shape[1], -1)\n",
    "lick_rate = behavior_data.flatten()\n",
    "\n",
    "print(neural_data.shape, lick_rate.shape)"
   ]
  },
  {
   "cell_type": "code",
   "execution_count": null,
   "metadata": {},
   "outputs": [],
   "source": []
  },
  {
   "cell_type": "code",
   "execution_count": null,
   "metadata": {},
   "outputs": [],
   "source": []
  },
  {
   "cell_type": "markdown",
   "metadata": {},
   "source": [
    "### Factor Analysis"
   ]
  },
  {
   "cell_type": "code",
   "execution_count": null,
   "metadata": {},
   "outputs": [],
   "source": [
    "def factor_analysis_em(X, num_factors, max_iter=100, tol=1e-6):\n",
    "    \"\"\"\n",
    "    Perform Factor Analysis using the EM algorithm.\n",
    "    \n",
    "    Parameters:\n",
    "        X: np.ndarray\n",
    "            Data matrix (n_samples x n_features).\n",
    "        num_factors: int\n",
    "            Number of latent factors.\n",
    "        max_iter: int\n",
    "            Maximum number of iterations.\n",
    "        tol: float\n",
    "            Convergence tolerance.\n",
    "    \n",
    "    Returns:\n",
    "        W: np.ndarray\n",
    "            Loadings matrix (n_features x num_factors).\n",
    "        Psi: np.ndarray\n",
    "            Diagonal noise covariance matrix (n_features x n_features).\n",
    "        Z_post: np.ndarray\n",
    "            Posterior latent variables (n_samples x num_factors).\n",
    "    \"\"\"\n",
    "    n_samples, n_features = X.shape\n",
    "\n",
    "    # Initialize W (randomly) and Psi (diagonal variance)\n",
    "    W = np.random.randn(n_features, num_factors)\n",
    "    Psi = np.var(X, axis=0)  # Store Psi as a 1D array for the diagonal values\n",
    "\n",
    "    for iteration in range(max_iter):\n",
    "        # E-step: Compute posterior expectations\n",
    "        Psi_inv = np.linalg.inv(np.diag(Psi))  # Use Psi as a diagonal matrix\n",
    "        M = np.linalg.inv(W.T @ Psi_inv @ W + np.eye(num_factors))\n",
    "        Z_post = X @ Psi_inv @ W @ M\n",
    "        ZZ_post = n_samples * M + Z_post.T @ Z_post\n",
    "\n",
    "        # M-step: Update W and Psi\n",
    "        W_new = (X.T @ Z_post) @ np.linalg.inv(ZZ_post)\n",
    "        Psi_new_diag = np.mean((X - Z_post @ W_new.T) ** 2, axis=0)  # Update diagonal of Psi\n",
    "\n",
    "        # Convergence check\n",
    "        if np.linalg.norm(W - W_new) < tol:\n",
    "            break\n",
    "        W = W_new\n",
    "        Psi = Psi_new_diag  # Update only the diagonal values\n",
    "    \n",
    "    # Return Psi as a diagonal matrix\n",
    "    return W, np.diag(Psi), Z_post\n",
    "\n",
    "# Generate synthetic data\n",
    "np.random.seed(42)\n",
    "true_W = np.array([[0.8, 0.3], [0.4, 0.9], [0.6, 0.7]])\n",
    "true_Psi = np.diag([0.1, 0.2, 0.3])\n",
    "n_samples = 500\n",
    "Z_true = np.random.randn(n_samples, 2)\n",
    "X = Z_true @ true_W.T + np.random.multivariate_normal([0, 0, 0], true_Psi, n_samples)\n",
    "\n",
    "# Run FA\n",
    "W, Psi, Z_post = factor_analysis_em(X, num_factors=2)\n",
    "\n",
    "print(\"Learned W:\\n\", W)\n",
    "print(\"Learned Psi:\\n\", Psi)"
   ]
  },
  {
   "cell_type": "code",
   "execution_count": null,
   "metadata": {},
   "outputs": [],
   "source": [
    "animal = 'animal_2'\n",
    "\n",
    "velocity = factors_dict[animal]['Velocity']\n",
    "activity_matrix = []\n",
    "for cell in residual_activity_dict[animal]:\n",
    "    activity_matrix.append(residual_activity_dict[animal][cell])\n",
    "num_cells = len(residual_activity_dict[animal])\n",
    "num_timepoints = residual_activity_dict[animal][cell].shape[0]\n",
    "num_trials = residual_activity_dict[animal][cell].shape[1]\n",
    "activity_matrix = np.array(activity_matrix)\n",
    "activity_matrix = activity_matrix.reshape((activity_matrix.shape[0], activity_matrix.shape[1]*activity_matrix.shape[2])).T\n",
    "\n",
    "print(f'Animal: {animal}')\n",
    "print(f'Number of cells: {num_cells}')\n",
    "print(f'Number of timepoints: {num_timepoints}')\n",
    "print(f'Number of trials: {num_trials}')"
   ]
  },
  {
   "cell_type": "code",
   "execution_count": null,
   "metadata": {},
   "outputs": [],
   "source": [
    "activity_matrix.shape"
   ]
  },
  {
   "cell_type": "code",
   "execution_count": null,
   "metadata": {},
   "outputs": [],
   "source": [
    "# W, Psi, Z_post = factor_analysis_em(activity_matrix, num_factors=2)"
   ]
  },
  {
   "cell_type": "code",
   "execution_count": null,
   "metadata": {},
   "outputs": [],
   "source": [
    "from sklearn.decomposition import FactorAnalysis\n",
    "\n",
    "# Initialize FA model\n",
    "num_factors = 3  # Number of latent factors\n",
    "fa = FactorAnalysis(n_components=num_factors)\n",
    "\n",
    "# Fit and transform the data\n",
    "Z = fa.fit_transform(activity_matrix)\n",
    "\n",
    "# Extract the loadings matrix and noise covariance\n",
    "W = fa.components_.T\n",
    "Psi = fa.noise_variance_"
   ]
  },
  {
   "cell_type": "code",
   "execution_count": null,
   "metadata": {},
   "outputs": [],
   "source": [
    "plt.scatter(range(len(Psi)), Psi)"
   ]
  },
  {
   "cell_type": "code",
   "execution_count": null,
   "metadata": {},
   "outputs": [],
   "source": [
    "Z.shape"
   ]
  },
  {
   "cell_type": "code",
   "execution_count": null,
   "metadata": {},
   "outputs": [],
   "source": [
    "# Assume Z is (n_samples, n_factors)\n",
    "for i in range(Z.shape[1]):\n",
    "    plt.plot(Z[:, i], label=f'Factor {i + 1}')\n",
    "\n",
    "# plt.xlim(0, 100)\n",
    "\n",
    "plt.xlabel('Samples (Trials or Time Points)')\n",
    "plt.ylabel('Latent Factor Value')\n",
    "plt.title('Latent Factor Dynamics')\n",
    "plt.legend()\n",
    "plt.show()\n"
   ]
  },
  {
   "cell_type": "code",
   "execution_count": null,
   "metadata": {},
   "outputs": [],
   "source": [
    "factor_1 = Z[:, 0].reshape(num_timepoints, num_trials)\n",
    "factor_2 = Z[:, 1].reshape(num_timepoints, num_trials)\n",
    "factor_3 = Z[:, 2].reshape(num_timepoints, num_trials)\n",
    "\n",
    "fig, ax = plt.subplots(1,3, figsize=(8,5))\n",
    "ax[0].imshow(factor_1.T)\n",
    "ax[0].set_title('Factor 1')\n",
    "ax[1].imshow(factor_2.T)\n",
    "ax[1].set_title('Factor 2')\n",
    "ax[2].imshow(factor_3.T)\n",
    "ax[2].set_title('Factor 3')\n",
    "# ax[2].imshow(velocity.T, cmap='gray')\n",
    "# ax[2].set_title('Velocity')\n",
    "plt.tight_layout()\n",
    "plt.show()"
   ]
  },
  {
   "cell_type": "code",
   "execution_count": null,
   "metadata": {},
   "outputs": [],
   "source": [
    "plt.plot(np.mean(factor_1, axis=1), color='red', label='Factor 1')\n",
    "plt.plot(np.mean(factor_2, axis=1), color='blue', label='Factor 2')\n",
    "plt.plot(np.mean(factor_3, axis=1), color='k', label='Factor 3')\n",
    "# plt.plot(np.mean(velocity, axis=1), color='k', label='Velocity')\n",
    "plt.legend()\n",
    "plt.xlabel('Position')"
   ]
  },
  {
   "cell_type": "code",
   "execution_count": null,
   "metadata": {},
   "outputs": [],
   "source": [
    "plt.plot(np.mean(factor_1, axis=0), color='red')\n",
    "plt.plot(np.mean(factor_2, axis=0), color='blue')\n",
    "plt.plot(np.mean(factor_3, axis=0), color='k')\n",
    "plt.xlabel('Trials')"
   ]
  },
  {
   "cell_type": "code",
   "execution_count": null,
   "metadata": {},
   "outputs": [],
   "source": [
    "from matplotlib.collections import LineCollection\n",
    "from matplotlib.colors import Normalize, to_rgba\n",
    "\n",
    "trial = 420\n",
    "fig, ax = plt.subplots()\n",
    "\n",
    "# for trial in range(5):\n",
    "# Create line segments\n",
    "x = factor_1[:, trial]\n",
    "y = factor_2[:, trial]\n",
    "points = np.array([x, y]).T.reshape(-1, 1, 2)\n",
    "segments = np.concatenate([points[:-1], points[1:]], axis=1)\n",
    "\n",
    "# Create a LineCollection with a colormap\n",
    "cmap = plt.get_cmap('viridis')  # Choose your colormap\n",
    "colors = np.linspace(0, 1, factor_1.shape[0])  # Gradient values (e.g., 0 to 1)\n",
    "norm = Normalize(vmin=0, vmax=1)\n",
    "lc = LineCollection(segments, cmap=cmap, norm=norm)\n",
    "lc.set_array(colors)  # Apply gradient\n",
    "lc.set_linewidth(2)  # Adjust line width\n",
    "\n",
    "# Plot\n",
    "ax.add_collection(lc)\n",
    "ax.scatter(x[0], y[0], color='blue', label='Start')\n",
    "ax.scatter(x[25], y[25], color='red', label='Reward', zorder=10, marker='*', s=300)\n",
    "ax.arrow(x[-1], y[-1], (x[-1]-x[-2])/100, (y[-1]-y[-2])/100, head_width=0.1, head_length=0.1, fc='r', ec='r')\n",
    "\n",
    "ax.autoscale()  # Adjust axis limits to fit the data\n",
    "# ax.set_xlim(x.min(), x.max())\n",
    "# ax.set_ylim(y.min(), y.max())\n",
    "\n",
    "# cbar = plt.colorbar(lc, ax=ax)\n",
    "# cbar.set_label('Gradient')\n",
    "\n",
    "plt.xlabel('Latent Factor 1')\n",
    "plt.ylabel('Latent Factor 2')\n",
    "plt.show()\n",
    "\n"
   ]
  },
  {
   "cell_type": "code",
   "execution_count": null,
   "metadata": {},
   "outputs": [],
   "source": [
    "import plotly.graph_objects as go\n",
    "\n",
    "trial = 0\n",
    "\n",
    "x = factor_1[:, trial]\n",
    "y = factor_2[:, trial]\n",
    "z = factor_3[:, trial]\n",
    "colors = np.linspace(0, 1, factor_1.shape[0])  # Gradient\n",
    "\n",
    "reward_index = 25\n",
    "reward_x = x[reward_index]\n",
    "reward_y = y[reward_index]\n",
    "reward_z = z[reward_index]\n",
    "\n",
    "# Plotly 3D line with gradient\n",
    "fig = go.Figure()\n",
    "\n",
    "fig.add_trace(go.Scatter3d(\n",
    "    x=x, y=y, z=z,\n",
    "    mode='lines',\n",
    "    line=dict(\n",
    "        color=colors,\n",
    "        colorscale='Viridis',\n",
    "        width=5\n",
    "    )\n",
    "))\n",
    "\n",
    "# Add a red point at the reward location\n",
    "fig.add_trace(go.Scatter3d(\n",
    "    x=[reward_x], y=[reward_y], z=[reward_z],\n",
    "    mode='markers',\n",
    "    marker=dict(\n",
    "        color='red',\n",
    "        size=8,\n",
    "        symbol='circle'\n",
    "    ),\n",
    "    name='Reward Location'\n",
    "))\n",
    "\n",
    "# Style and layout\n",
    "fig.update_layout(\n",
    "    title='3D Gradient Line (Interactive)',\n",
    "    scene=dict(\n",
    "        xaxis_title='Factor 1',\n",
    "        yaxis_title='Factor 2',\n",
    "        zaxis_title='Factor 3',\n",
    "    ),\n",
    "    margin=dict(l=0, r=0, b=0, t=40),\n",
    ")\n",
    "\n",
    "fig.show()\n"
   ]
  },
  {
   "cell_type": "code",
   "execution_count": null,
   "metadata": {},
   "outputs": [],
   "source": []
  },
  {
   "cell_type": "code",
   "execution_count": null,
   "metadata": {},
   "outputs": [],
   "source": [
    "from mpl_toolkits.mplot3d import Axes3D\n",
    "from matplotlib.animation import FuncAnimation\n",
    "\n",
    "trial = 2\n",
    "\n",
    "colors = np.linspace(0, 1, factor_1.shape[0])  # Gradient\n",
    "x = factor_1[:, trial]\n",
    "y = factor_2[:, trial]\n",
    "z = factor_3[:, trial]\n",
    "\n",
    "# Create figure and 3D axis\n",
    "fig = plt.figure(figsize=(8, 6))\n",
    "ax = fig.add_subplot(111, projection='3d')\n",
    "\n",
    "# Add the 3D gradient line\n",
    "for i in range(len(x) - 1):\n",
    "    ax.plot(\n",
    "        [x[i], x[i + 1]],\n",
    "        [y[i], y[i + 1]],\n",
    "        [z[i], z[i + 1]],\n",
    "        color=plt.cm.viridis(colors[i]),\n",
    "        linewidth=2\n",
    "    )\n",
    "\n",
    "reward_idx = 25\n",
    "ax.scatter(x[reward_idx], y[reward_idx], z[reward_idx], color='red', s=100, label='Reward')\n",
    "\n",
    "# Set labels\n",
    "ax.set_xlabel('Factor 1')\n",
    "ax.set_ylabel('Factor 2')\n",
    "ax.set_zlabel('Factor 3')\n",
    "\n",
    "# Define the rotation function\n",
    "def rotate(angle):\n",
    "    ax.view_init(elev=30, azim=angle)\n",
    "\n",
    "# Create animation\n",
    "anim = FuncAnimation(fig, rotate, frames=np.arange(0, 360, 2), interval=50)\n",
    "\n",
    "from IPython.display import HTML\n",
    "HTML(anim.to_jshtml())\n"
   ]
  },
  {
   "cell_type": "code",
   "execution_count": null,
   "metadata": {},
   "outputs": [],
   "source": [
    "from sklearn.cluster import KMeans\n",
    "\n",
    "# Cluster neurons based on W\n",
    "kmeans = KMeans(n_clusters=2, random_state=42)\n",
    "clusters = kmeans.fit_predict(W)\n",
    "\n",
    "# Visualize cluster assignments\n",
    "fig, ax = plt.subplots(1,2, figsize=(10,5))\n",
    "ax[0].scatter(W[:, 0], W[:, 1], c=clusters, cmap='viridis', s=50)\n",
    "ax[0].set_xlabel('Factor 1')\n",
    "ax[0].set_ylabel('Factor 2')\n",
    "ax[1].scatter(W[:, 0], W[:, 2], c=clusters, cmap='viridis', s=50)\n",
    "ax[1].set_xlabel('Factor 1')\n",
    "ax[1].set_ylabel('Factor 3')\n",
    "fig.suptitle('Neuron Clustering Based on Loadings')\n",
    "\n",
    "# plt.scatter(W[:, 0], W[:, 1], c=clusters, cmap='viridis', s=50)\n",
    "# plt.xlabel('Factor 1')\n",
    "# plt.ylabel('Factor 2')\n",
    "# plt.title('Neuron Clustering Based on Loadings')\n",
    "# plt.show()\n"
   ]
  },
  {
   "cell_type": "code",
   "execution_count": null,
   "metadata": {},
   "outputs": [],
   "source": [
    "# Compute reconstructed data\n",
    "X_recon = Z @ W.T\n",
    "\n",
    "# Compute error\n",
    "X = activity_matrix\n",
    "reconstruction_error = np.mean((X - X_recon) ** 2)\n",
    "\n",
    "print(f\"Reconstruction Error: {reconstruction_error:.4f}\")\n",
    "\n",
    "plt.scatter(X.flatten(), X_recon.flatten(), alpha=0.5)\n",
    "plt.xlabel('Original Data')\n",
    "plt.ylabel('Reconstructed Data')\n",
    "plt.title('Original vs. Reconstructed Data')\n",
    "plt.show()\n",
    "\n",
    "\n",
    "X = activity_matrix.reshape(num_timepoints, num_trials, num_cells)\n",
    "X_recon = X_recon.reshape(num_timepoints, num_trials, num_cells)\n",
    "\n",
    "cell = 6\n",
    "avg_cell = np.mean(X[:, :, cell], axis=1)\n",
    "avg_recon = np.mean(X_recon[:, :, cell], axis=1)\n",
    "plt.plot(avg_cell, label='Original', color='gray')\n",
    "plt.plot(avg_recon, label='Reconstructed', color='gray', linestyle='dashed')"
   ]
  },
  {
   "cell_type": "code",
   "execution_count": null,
   "metadata": {},
   "outputs": [],
   "source": [
    "# Cluster the trials in the latent space (to find 'attractor states' of similar trials)\n",
    "\n",
    "from sklearn.cluster import KMeans\n",
    "\n",
    "# Assume Z is your latent factor matrix of shape (num_trials x num_latent_factors)\n",
    "num_clusters = 3  # Number of clusters (adjust based on your hypothesis or analysis)\n",
    "\n",
    "reshaped_factors = Z.reshape(num_timepoints, num_trials, num_factors)\n",
    "trial_mean = np.mean(reshaped_factors, axis=0)\n",
    "\n",
    "# Perform K-means clustering on the latent factors\n",
    "kmeans = KMeans(n_clusters=num_clusters, random_state=42)\n",
    "cluster_labels = kmeans.fit_predict(trial_mean)\n",
    "\n",
    "fig, ax = plt.subplots(1,2, figsize=(10, 5))\n",
    "ax[0].scatter(trial_mean[:, 0], trial_mean[:, 1], c=cluster_labels, cmap='viridis')\n",
    "ax[0].set_xlabel('Latent Factor 1')\n",
    "ax[0].set_ylabel('Latent Factor 2')\n",
    "ax[1].scatter(trial_mean[:, 0], trial_mean[:, 2], c=cluster_labels, cmap='viridis')\n",
    "ax[1].set_xlabel('Latent Factor 1')\n",
    "ax[1].set_ylabel('Latent Factor 3')\n",
    "fig.suptitle('Clustered Trials in Latent Space')\n",
    "\n",
    "# ax[0].scatter(Z[:, 0], Z[:, 1], c=cluster_labels, cmap='viridis')\n",
    "# ax[0].set_xlabel('Latent Factor 1')\n",
    "# ax[0].set_ylabel('Latent Factor 2')\n",
    "# ax[0].set_title('Clustered Trials in Latent Space')\n",
    "# ax[1].scatter(Z[:, 0], Z[:, 2], c=cluster_labels, cmap='viridis')\n",
    "# ax[1].set_xlabel('Latent Factor 1')\n",
    "# ax[1].set_ylabel('Latent Factor 3')\n",
    "# fig.suptitle('Clustered Trials in Latent Space')\n",
    "\n",
    "\n",
    "# plt.scatter(Z[:, 0], Z[:, 1], c=cluster_labels, cmap='viridis')\n",
    "# plt.xlabel('Latent Factor 1')\n",
    "# plt.ylabel('Latent Factor 2')\n",
    "# plt.title('Clustered Trials in Latent Space')\n",
    "# plt.colorbar(label='Cluster')\n",
    "# plt.show()\n"
   ]
  },
  {
   "cell_type": "code",
   "execution_count": null,
   "metadata": {},
   "outputs": [],
   "source": [
    "import matplotlib.pyplot as plt\n",
    "import numpy as np\n",
    "\n",
    "# Assume Z is your latent factor matrix of shape (num_trials x num_latent_factors)\n",
    "# For simplicity, we use the first two factors (Factor 1 vs Factor 2)\n",
    "factor1 = trial_mean[:, 0]\n",
    "factor2 = trial_mean[:, 1]\n",
    "factor3 = trial_mean[:, 2]\n",
    "\n",
    "# Create an array for trial indices (or use any other trial-based information you have)\n",
    "trial_indices = np.arange(trial_mean.shape[0])\n",
    "\n",
    "# Scatter plot with trial indices as colors\n",
    "plt.scatter(factor1, factor2, c=trial_indices, cmap='viridis', s=50)\n",
    "plt.colorbar(label='Trial Index')  # Colorbar showing trial indices\n",
    "plt.xlabel('Latent Factor 1')\n",
    "plt.ylabel('Latent Factor 2')\n",
    "plt.title('Scatterplot of Trials in Latent Factor Space')\n",
    "plt.show()"
   ]
  },
  {
   "cell_type": "code",
   "execution_count": null,
   "metadata": {},
   "outputs": [],
   "source": []
  },
  {
   "cell_type": "code",
   "execution_count": null,
   "metadata": {},
   "outputs": [],
   "source": []
  },
  {
   "cell_type": "code",
   "execution_count": null,
   "metadata": {},
   "outputs": [],
   "source": []
  },
  {
   "cell_type": "markdown",
   "metadata": {},
   "source": [
    "### jPCA"
   ]
  },
  {
   "cell_type": "code",
   "execution_count": null,
   "metadata": {},
   "outputs": [],
   "source": [
    "import jPCA\n",
    "from jPCA.util import load_churchland_data, plot_projections"
   ]
  },
  {
   "cell_type": "code",
   "execution_count": null,
   "metadata": {},
   "outputs": [],
   "source": [
    "animal = 'animal_5'\n",
    "\n",
    "# datas = []\n",
    "# for cell in activity_dict[animal]:\n",
    "#     datas.append(activity_dict[animal][cell])\n",
    "\n",
    "datas = []\n",
    "for cell in activity_dict[animal]:\n",
    "    datas.append(activity_dict[animal][cell])\n",
    "datas = np.array(datas).swapaxes(0,2) # swap trials and cells\n",
    "datas_list = [] # convert 1st dimension to a list of arrays\n",
    "for i in range(datas.shape[0]):\n",
    "    datas_list.append(datas[i])\n",
    "datas = datas_list\n",
    "datas = datas[0:5]\n",
    "\n",
    "times = list(range(0, 50))\n",
    "\n",
    "# Create a jPCA object\n",
    "jpca = jPCA.JPCA(num_jpcs=6)\n",
    "\n",
    "# Fit the jPCA object to data\n",
    "(projected, \n",
    " full_data_var,\n",
    " pca_var_capt,\n",
    " jpca_var_capt) = jpca.fit(datas, times=times, tstart=0, tend=49)\n",
    "\n",
    "# Plot the projected data\n",
    "# x_idx and y_idx control which columns of the data are shown.\n",
    "# For example, to plot the second jPCA plane, use x_idx=2, y_idx=3\n",
    "fig, axes = plt.subplots(1, 2, figsize=(10, 5))\n",
    "plot_projections(projected, axis=axes[0], x_idx=0, y_idx=1, circles=True, arrows=True, arrow_size=0.02, circle_size=0.01)\n",
    "plot_projections(projected, axis=axes[1], x_idx=2, y_idx=3, circles=True, arrows=True, arrow_size=0.02, circle_size=0.01)\n",
    "\n",
    "axes[0].set_title(\"jPCA Plane 1\")\n",
    "axes[1].set_title(\"jPCA Plane 2\")\n",
    "plt.tight_layout()\n",
    "plt.show()"
   ]
  },
  {
   "cell_type": "code",
   "execution_count": null,
   "metadata": {},
   "outputs": [],
   "source": []
  },
  {
   "cell_type": "markdown",
   "metadata": {},
   "source": [
    "### 2. sliceTCA analysis"
   ]
  },
  {
   "cell_type": "code",
   "execution_count": 3,
   "metadata": {},
   "outputs": [],
   "source": [
    "import torch\n",
    "import slicetca"
   ]
  },
  {
   "cell_type": "code",
   "execution_count": 4,
   "metadata": {},
   "outputs": [
    {
     "name": "stdout",
     "output_type": "stream",
     "text": [
      "(52, 14, 50)\n"
     ]
    }
   ],
   "source": [
    "# Get activity data in shape (trials x neurons x timebins)\n",
    "animal = 'animal_1'\n",
    "\n",
    "neural_data = []\n",
    "for cell, data in residual_activity_dict[animal].items():\n",
    "    neural_data.append(data.T)\n",
    "neural_data = np.stack(neural_data, axis=1)\n",
    "\n",
    "# behavior_data = []\n",
    "# for behav_factor, data in factors_dict[animal].items():\n",
    "#     behavior_data.append(data.T)\n",
    "# behavior_data = np.stack(behavior_data, axis=1)\n",
    "# behavior_data.shape\n",
    "\n",
    "# smooth along time axis, using a Gaussian filter (sigma=2 with bin size 10 ms corresponds to 20 ms)\n",
    "neural_data = spnd.gaussian_filter1d(neural_data, sigma=2, axis=-1)\n",
    "\n",
    "# min-max scaling for each neuron for values between [0,1]\n",
    "neural_data = np.array([d / d.max() for d in np.array([d - d.min() for d in neural_data])])\n",
    "print(neural_data.shape)"
   ]
  },
  {
   "cell_type": "code",
   "execution_count": 5,
   "metadata": {},
   "outputs": [
    {
     "data": {
      "image/png": "[encoded data removed]",
      "text/plain": [
       "<Figure size 900x400 with 6 Axes>"
      ]
     },
     "metadata": {},
     "output_type": "display_data"
    }
   ],
   "source": [
    "#### Plot raw data ####\n",
    "neurons = [1,4,12]\n",
    "\n",
    "plt.figure(figsize=(9,4), dpi=100)\n",
    "# heat maps sorted by target angle for three example neurons\n",
    "for ni,n in enumerate(neurons):\n",
    "    plt.subplot(2,3,ni+1)\n",
    "    plt.imshow(neural_data[:,n], aspect='auto', vmin=0, vmax=0.7, extent=[0,50, 0, len(neural_data)], cmap='magma', origin='lower', interpolation='none')\n",
    "    plt.vlines(26, 0, len(neural_data), colors='w', linestyles='--')\n",
    "    if ni==0: plt.ylabel('trials')\n",
    "    plt.title('neuron ' + str(n))\n",
    "\n",
    "# condition-averaged, scaled & smoothed PSTHs\n",
    "for ni,n in enumerate(neurons):\n",
    "    plt.subplot(2,3,ni+4)\n",
    "    plt.plot(np.linspace(0,50,50), np.mean(neural_data[:,n], axis=0), '-')\n",
    "    plt.plot([0,0], [0,.4], 'k--')\n",
    "    if ni==0: plt.ylabel('activity')\n",
    "    plt.xlim([0,50])\n",
    "    plt.xlabel('time/spatial bin')\n",
    "plt.tight_layout()"
   ]
  },
  {
   "cell_type": "code",
   "execution_count": null,
   "metadata": {},
   "outputs": [],
   "source": []
  },
  {
   "cell_type": "code",
   "execution_count": 9,
   "metadata": {},
   "outputs": [
    {
     "data": {
      "text/plain": [
       "(100, 14, 50)"
      ]
     },
     "execution_count": 9,
     "metadata": {},
     "output_type": "execute_result"
    }
   ],
   "source": [
    "neural_data = np.random.randn(100, 14, 50)\n",
    "neural_data.shape"
   ]
  },
  {
   "cell_type": "code",
   "execution_count": null,
   "metadata": {},
   "outputs": [],
   "source": []
  },
  {
   "cell_type": "code",
   "execution_count": null,
   "metadata": {},
   "outputs": [],
   "source": [
    "#### Run sliceTCA ####\n",
    "device = ('cuda' if torch.cuda.is_available() else 'cpu')\n",
    "neural_data_tensor = torch.tensor(neural_data, device=device, dtype=torch.float32)\n",
    "# neural_data_tensor = neural_data_tensor/neural_data_tensor.std() # rescale data so it has similar magnitude as the initial weights\n",
    "# print(neural_data_tensor.shape)"
   ]
  },
  {
   "cell_type": "code",
   "execution_count": null,
   "metadata": {},
   "outputs": [],
   "source": []
  },
  {
   "cell_type": "code",
   "execution_count": null,
   "metadata": {},
   "outputs": [],
   "source": []
  },
  {
   "cell_type": "code",
   "execution_count": null,
   "metadata": {},
   "outputs": [],
   "source": [
    "#### Run sliceTCA ####\n",
    "device = ('cuda' if torch.cuda.is_available() else 'cpu')\n",
    "neural_data_tensor = torch.tensor(neural_data, device=device, dtype=torch.float32)\n",
    "neural_data_tensor = neural_data_tensor/neural_data_tensor.std() # rescale data so it has similar magnitude as the initial weights\n",
    "print(neural_data_tensor.shape)\n",
    "components, model = slicetca.decompose(neural_data_tensor,\n",
    "                                       number_components=(3,3,5), # (trials, neurons, time bins)\n",
    "                                       # number_components=(3,0,0),\n",
    "                                       positive=False,\n",
    "                                       learning_rate=5*10**-3,\n",
    "                                       min_std=10**-5,\n",
    "                                       max_iter=3_000,\n",
    "                                       seed=0)\n",
    "\n",
    "plt.figure(figsize=(4,3), dpi=100)\n",
    "plt.plot(np.arange(1000,len(model.losses)), model.losses[1000:], 'k')\n",
    "plt.xlabel('iterations')\n",
    "plt.ylabel('mean squared error')\n",
    "plt.xlim(0,len(model.losses))\n",
    "plt.tight_layout()"
   ]
  },
  {
   "cell_type": "code",
   "execution_count": null,
   "metadata": {},
   "outputs": [],
   "source": [
    "# sort the neurons (in the trial slices) according to their peak activity in the first slice.\n",
    "neuron_sorting_peak_time = np.argsort(np.argmax(components[0][1][0], axis=1))\n",
    "axes = slicetca.plot(model,\n",
    "              variables=('trial', 'neuron', 'time'),\n",
    "            #   ticks=(None, None, np.linspace(0,50,3)), # we only want to modify the time ticks\n",
    "            #   tick_labels=(None, None, np.linspace(0,50,3)),\n",
    "            #   sorting_indices=(None, neuron_sorting_peak_time, None),\n",
    "              quantile=0.99)"
   ]
  },
  {
   "cell_type": "code",
   "execution_count": null,
   "metadata": {},
   "outputs": [],
   "source": [
    "model.__dict__.keys()"
   ]
  },
  {
   "cell_type": "code",
   "execution_count": null,
   "metadata": {},
   "outputs": [],
   "source": [
    "model.vectors[0]"
   ]
  },
  {
   "cell_type": "code",
   "execution_count": null,
   "metadata": {},
   "outputs": [],
   "source": [
    "# slice (trial/neuron/time), weights/heatmaps, component\n",
    "x1 = model.vectors[0][0][0].detach().numpy()\n",
    "x2 = model.vectors[0][0][1].detach().numpy()\n",
    "\n",
    "plt.plot(x1, x2)"
   ]
  },
  {
   "cell_type": "code",
   "execution_count": null,
   "metadata": {},
   "outputs": [],
   "source": []
  },
  {
   "cell_type": "code",
   "execution_count": null,
   "metadata": {},
   "outputs": [],
   "source": []
  },
  {
   "cell_type": "code",
   "execution_count": null,
   "metadata": {},
   "outputs": [],
   "source": [
    "#### Factor decoding from trial-slicing reconstruction ####\n",
    "\n",
    "# Reconstruct the data from the fitted model\n",
    "reconstruction_full = model.construct().numpy(force=True)\n",
    "print(reconstruction_full.shape)\n",
    "\n",
    "# reconstruct from the trial-slicing partition (i.e., sum of all trial-slicing component reconstructions)\n",
    "reconstruction_trial_slicing = model.construct_single_partition(partition=0).numpy(force=True)\n",
    "\n",
    "# construct from the time-slicing component(s)\n",
    "reconstruction_time_slicing = model.construct_single_component(partition=2, k=0).numpy(force=True)\n",
    "\n",
    "\n",
    "# map raw neural data vs. reconstructed data from the num_neuron-dimensional space to the num_factors-dimensional space of using OLS.\n",
    "def OLS_projection(neurons, factors):\n",
    "    \"\"\"\n",
    "    OLS function first reshapes the neural data to a (neurons x [trials * time]) matrix, and factors to a (coordinates x [trials * time]) matrix. \n",
    "    After mapping neural data to the factors, data is reshaped again to a tensor format.\n",
    "    \"\"\"\n",
    "\n",
    "    # mapping onto x,y speed (instead of position) gives better fits\n",
    "    factors = np.diff(factors, axis=-1)\n",
    "    neurons = neurons[:,:,:-1]\n",
    "\n",
    "    # reshape\n",
    "    X = neurons.transpose(1,0,2).reshape(neurons.shape[1], -1).T\n",
    "    X = np.concatenate([X, np.ones(len(X))[:,np.newaxis]], axis=1)\n",
    "    Y = factors.transpose(1,0,2).reshape(factors.shape[1], -1).T\n",
    "\n",
    "    # solve\n",
    "    weights = np.linalg.pinv(X.T @ X) @ (X.T @ Y)\n",
    "\n",
    "    # project and reshape\n",
    "    Y_pred = (X @ weights).T\n",
    "\n",
    "    # reshape back into original format\n",
    "    Y_pred = Y_pred.reshape(factors.transpose(1,0,2).shape).transpose(1,0,2)\n",
    "\n",
    "    # integrate along time axis\n",
    "    Y_pred = np.cumsum(Y_pred, axis=-1)\n",
    "\n",
    "    return Y_pred\n",
    "\n",
    "\n",
    "# Plot decoded trajectories\n",
    "# (actual factors vs the mapping of raw data onto the factors vs the mapping of the sliceTCA reconstruction from trial-slicing components)\n",
    "\n",
    "# from raw data\n",
    "mapping_raw = OLS_projection(neural_data[:,1:5,10:], behavior_data[:,1:5,10:]) #(trials, factors, timebins)\n",
    "\n",
    "# from trial-slicing reconstruction\n",
    "mapping_slicetca = OLS_projection(reconstruction_trial_slicing[:,1:5,10:], behavior_data[:,1:5,10:])\n",
    "\n",
    "plot_names = ['factors', 'raw data', 'reconstruction from \\ntrial-slicing']\n",
    "data = [behavior_data[:,1:5,10:] - behavior_data[:,1:5,0][:,:,np.newaxis], mapping_raw, mapping_slicetca]\n",
    "plt.figure(figsize=(9,3), dpi=100)\n",
    "for di,d in enumerate(data):\n",
    "    plt.subplot(1,3,di+1)\n",
    "    for ti,t in enumerate(d):\n",
    "        plt.plot(t[0], t[1])\n",
    "    plt.title(plot_names[di])\n",
    "plt.tight_layout()"
   ]
  },
  {
   "cell_type": "code",
   "execution_count": null,
   "metadata": {},
   "outputs": [],
   "source": [
    "#### Cross-validation ####\n",
    "# determine the number of components necessary to fit the tensor reconstructed from the slicetca model + some noise\n",
    "\n",
    "train_mask, test_mask = slicetca.block_mask(dimensions=reconstruction_full.shape,\n",
    "                                            train_blocks_dimensions=(1, 1, 10), # Note that the blocks will be of size 2*train_blocks_dimensions + 1\n",
    "                                            test_blocks_dimensions=(1, 1, 5), # Same, 2*test_blocks_dimensions + 1\n",
    "                                            fraction_test=0.1,\n",
    "                                            device=device)\n",
    "\n",
    "# Run a grid search to fit models with different numbers of components for (trial, neuron, time). \n",
    "\n",
    "reconstructed_noisy_tensor = torch.relu(torch.tensor(reconstruction_full, device=device)+torch.randn(reconstruction_full.shape, device=device)*0.1)\n",
    "\n",
    "# this will take a while to run as it fits 3*3*8*4 = 288 models\n",
    "loss_grid, seed_grid = slicetca.grid_search(reconstructed_noisy_tensor,\n",
    "                                            min_ranks = [1, 1, 5],\n",
    "                                            max_ranks = [3, 3, 8],\n",
    "                                            sample_size=4,\n",
    "                                            mask_train=train_mask,\n",
    "                                            mask_test=test_mask,\n",
    "                                            processes_grid=4,\n",
    "                                            seed=1,\n",
    "                                            min_std=10**-4,\n",
    "                                            learning_rate=5*10**-3,\n",
    "                                            max_iter=10_000,\n",
    "                                            positive=True)"
   ]
  },
  {
   "cell_type": "code",
   "execution_count": null,
   "metadata": {},
   "outputs": [],
   "source": [
    "slicetca.plot_grid(loss_grid, min_ranks=(1, 1, 5))\n"
   ]
  },
  {
   "cell_type": "code",
   "execution_count": null,
   "metadata": {},
   "outputs": [],
   "source": []
  },
  {
   "cell_type": "markdown",
   "metadata": {},
   "source": [
    "### 2. (Optional) Filter the data\n",
    "\n",
    "Skip this code block if you want to include all neurons in the analysis.\n",
    "\n",
    "For example, you can keep only the cells with GLM prediction R<sup>2</sup> > 0.8, or the top 20% of cells based on Velocity weights."
   ]
  },
  {
   "cell_type": "code",
   "execution_count": null,
   "metadata": {},
   "outputs": [],
   "source": [
    "data, GLM_params= filter_neurons_by_metric(data, GLM_params, variable_list, \n",
    "                                                       metric = 'R2',        # Options: 'R2', 'trial correlations', 'Licks', 'Reward_loc', 'Velocity', '#1', '#2', etc.\n",
    "                                                       threshold = 0.5, \n",
    "                                                       scale_type = 'value', # Options: 'value', 'percentile', 'std'\n",
    "                                                       keep = 'top'          # Options: 'top', 'bottom'\n",
    "                                                       )\n",
    "\n",
    "\n",
    "# data, GLM_params= filter_neurons_by_metric(data, GLM_params, variable_list, \n",
    "#                                                        metric = 'trial correlations',        # Options: 'R2', 'trial correlations', 'Licks', 'Reward_loc', 'Velocity', '#1', '#2', etc.\n",
    "#                                                        threshold = 20, \n",
    "#                                                        scale_type = 'percentile', # Options: 'value', 'percentile', 'std'\n",
    "#                                                        keep = 'top'          # Options: 'top', 'bottom'\n",
    "#                                                        )"
   ]
  },
  {
   "cell_type": "markdown",
   "metadata": {},
   "source": [
    "### 3. Visualize the data\n",
    "\n",
    "The animal and cell numbers are based on your original dataset, so e.g. 'cell_1' does not exist because it has been removed from the data.\n",
    "\n",
    "(Any cell with all zeros or all NaNs is automatically removed.)"
   ]
  },
  {
   "cell_type": "code",
   "execution_count": null,
   "metadata": {},
   "outputs": [],
   "source": [
    "plot_combined_figure(reorganized_data, GLM_params, variable_list, model_name=filename, sort_by='R2', save=False)\n",
    "# plot_combined_figure(reorganized_data, GLM_params, variable_list, model_name=filename, animal='animal_2', cell='cell_3', save=False)"
   ]
  },
  {
   "cell_type": "code",
   "execution_count": null,
   "metadata": {},
   "outputs": [],
   "source": [
    "'''\n",
    "If you want to visualize the GLM results for a specific example neuron, you can either specify the animal and cell number, \n",
    "or pick the top neuron based on a specific metric (such as weight for Reward_loc)\n",
    "'''\n",
    "\n",
    "plot_example_neuron(reorganized_data, GLM_params, variable_list, sort_by=\"Reward_loc\")\n",
    "plot_example_neuron(reorganized_data, GLM_params, variable_list, animal='animal_4', cell='cell_3')"
   ]
  },
  {
   "cell_type": "code",
   "execution_count": null,
   "metadata": {},
   "outputs": [],
   "source": [
    "'''\n",
    "Visualize the dF/F traces after subtracting the GLM prediction based on only Velocity (all other weights+intercept set to 0).\n",
    "The dF/F data is Z-scored across all trials, and the 2 GLMs are trained on different subsets of this data.\n",
    "You can compare any 2 quintiles of the data.\n",
    "'''\n",
    "\n",
    "plot_quintile_comparison(reorganized_data, variable_list, filename, quintiles=(1,5), save=False)"
   ]
  },
  {
   "cell_type": "code",
   "execution_count": null,
   "metadata": {},
   "outputs": [],
   "source": [
    "avg_residuals, GLM_params = compute_velocity_subtracted_residuals(reorganized_data, variable_list, quintile=None)"
   ]
  },
  {
   "cell_type": "code",
   "execution_count": null,
   "metadata": {},
   "outputs": [],
   "source": [
    "plt.imshow(avg_residuals, interpolation='none', aspect='auto', cmap='viridis')"
   ]
  },
  {
   "cell_type": "code",
   "execution_count": null,
   "metadata": {},
   "outputs": [],
   "source": [
    "plt.plot(avg_residuals.T)\n",
    "plt.show()"
   ]
  },
  {
   "cell_type": "code",
   "execution_count": null,
   "metadata": {},
   "outputs": [],
   "source": [
    "plt.plot(avg_residuals.mean(axis=0))"
   ]
  },
  {
   "cell_type": "code",
   "execution_count": null,
   "metadata": {},
   "outputs": [],
   "source": [
    "activity = reorganized_data['animal_2']['cell_8'][:,0,:].T\n",
    "plt.imshow(activity, interpolation='none', aspect='auto', cmap='viridis')   "
   ]
  },
  {
   "cell_type": "code",
   "execution_count": null,
   "metadata": {},
   "outputs": [],
   "source": []
  },
  {
   "cell_type": "code",
   "execution_count": null,
   "metadata": {},
   "outputs": [],
   "source": []
  },
  {
   "cell_type": "code",
   "execution_count": null,
   "metadata": {},
   "outputs": [],
   "source": [
    "cell = 19\n",
    "\n",
    "avg_residuals, GLM_params = compute_velocity_subtracted_residuals(reorganized_data, variable_list, quintile=3)\n",
    "sort_idx = np.argsort(np.argmax(avg_residuals, axis=1))\n",
    "sorted_avg_residuals = avg_residuals[sort_idx]\n",
    "\n",
    "# Renormalize between 0 and 1\n",
    "cell_residual = sorted_avg_residuals[cell]\n",
    "cell_residual = (cell_residual - np.min(cell_residual)) / (np.max(cell_residual) - np.min(cell_residual))\n",
    "\n",
    "fig, ax = plt.subplots(1,2, figsize=(10, 5))\n",
    "ax[0].imshow(sorted_avg_residuals, aspect='equal', cmap='viridis', interpolation='none')\n",
    "ax[0].set_xlabel('Position')\n",
    "ax[0].set_ylabel('Cell')\n",
    "\n",
    "ax[1].plot(cell_residual)\n",
    "ax[1].set_xlabel('Position')\n",
    "ax[1].set_ylabel('velocity-subtracted dF/F (Z-scored)')\n",
    "ax[1].set_title(f\"Cell {cell}\")\n",
    "\n",
    "plt.tight_layout()\n",
    "plt.show()"
   ]
  },
  {
   "cell_type": "code",
   "execution_count": null,
   "metadata": {},
   "outputs": [],
   "source": []
  }
 ],
 "metadata": {
  "kernelspec": {
   "display_name": "CA1-interneuron-GLM",
   "language": "python",
   "name": "python3"
  },
  "language_info": {
   "codemirror_mode": {
    "name": "ipython",
    "version": 3
   },
   "file_extension": ".py",
   "mimetype": "text/x-python",
   "name": "python",
   "nbconvert_exporter": "python",
   "pygments_lexer": "ipython3",
   "version": "3.11.11"
  }
 },
 "nbformat": 4,
 "nbformat_minor": 2
}
