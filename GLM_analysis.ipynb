{
 "cells": [
  {
   "cell_type": "code",
   "execution_count": 178,
   "metadata": {},
   "outputs": [],
   "source": [
    "import mat73\n",
    "import numpy as np\n"
   ]
  },
  {
   "cell_type": "code",
   "execution_count": 39,
   "metadata": {},
   "outputs": [
    {
     "name": "stdout",
     "output_type": "stream",
     "text": [
      "Shape of the combined matrix for the first neuron of animal_1: (50, 4, 213)\n",
      "Total number of animals in dictionary: 10\n",
      "Number of neurons for animal_1: 5\n"
     ]
    }
   ],
   "source": [
    "import mat73\n",
    "import numpy as np\n",
    "import matplotlib.pyplot as plt\n",
    "from sklearn.linear_model import RidgeCV\n",
    "\n",
    "\n",
    "filepath = \"SSTindivsomata_GLM.mat\"\n",
    "\n",
    "data_dict = mat73.loadmat(filepath)\n",
    "\n",
    "num_animals = len(data_dict['animal']['ShiftLrate'])\n",
    "\n",
    "reorganized_data = {}\n",
    "\n",
    "for animal_idx in range(num_animals):\n",
    "    neuron_list = []\n",
    "    \n",
    "    num_neurons = data_dict['animal']['ShiftR'][animal_idx].shape[2]\n",
    "    \n",
    "    for neuron_idx in range(1,num_neurons):\n",
    "        neuron_data = []\n",
    "        neuron_data.append(data_dict['animal']['ShiftLrate'][animal_idx])               # Lick rate\n",
    "        neuron_data.append(data_dict['animal']['ShiftV'][animal_idx])                   # Reward location (valve opening)\n",
    "        neuron_data.append(data_dict['animal']['ShiftRunning'][animal_idx])             # Running speed  \n",
    "\n",
    "        # TODO: Add 5 spatial features\n",
    "        # TODO: add combo of lick+valve\n",
    "\n",
    "        \n",
    "        neuron_data.append(data_dict['animal']['ShiftR'][animal_idx][:, :, neuron_idx]) # Neuron activity\n",
    "        combined_matrix = np.stack(neuron_data, axis=1) \n",
    "        neuron_list.append(combined_matrix)\n",
    "\n",
    "    reorganized_data[f'animal_{animal_idx + 1}'] = neuron_list\n",
    "\n",
    "print(f\"Shape of the combined matrix for the first neuron of animal_1: {reorganized_data['animal_1'][0].shape}\")\n",
    "print(f\"Total number of animals in dictionary: {len(reorganized_data)}\")\n",
    "print(f\"Number of neurons for animal_1: {len(reorganized_data['animal_1'])}\")"
   ]
  },
  {
   "cell_type": "code",
   "execution_count": 151,
   "metadata": {},
   "outputs": [],
   "source": [
    "GLM_params = {}\n",
    "\n",
    "for animal in reorganized_data:\n",
    "    GLM_params[animal] = {}\n",
    "    for i,neuron in enumerate(reorganized_data[animal]):\n",
    "        avg_neuron_data = np.nanmean(neuron[:,:,1:], axis=2)\n",
    "        avg_neuron_data = (avg_neuron_data - np.mean(avg_neuron_data, axis=0)) / np.std(avg_neuron_data, axis=0) # Z-score the data\n",
    "        design_matrix_X = avg_neuron_data[:, :3]\n",
    "        neuron_activity = avg_neuron_data[:, 3]\n",
    "        \n",
    "        ridge_cv = RidgeCV(alphas=[0.1, 1, 10, 100, 1000, 5000], store_cv_results=True)\n",
    "        ridge_cv.fit(design_matrix_X, neuron_activity)\n",
    "\n",
    "        GLM_params[animal][i] = {'weights': ridge_cv.coef_, \n",
    "                                 'intercept': ridge_cv.intercept_, \n",
    "                                 'alpha': ridge_cv.alpha_, \n",
    "                                 'cv_results': np.mean(ridge_cv.cv_results_, axis=0)}\n",
    "        "
   ]
  },
  {
   "cell_type": "code",
   "execution_count": null,
   "metadata": {},
   "outputs": [],
   "source": []
  }
 ],
 "metadata": {
  "kernelspec": {
   "display_name": "base",
   "language": "python",
   "name": "python3"
  },
  "language_info": {
   "codemirror_mode": {
    "name": "ipython",
    "version": 3
   },
   "file_extension": ".py",
   "mimetype": "text/x-python",
   "name": "python",
   "nbconvert_exporter": "python",
   "pygments_lexer": "ipython3",
   "version": "3.9.15"
  }
 },
 "nbformat": 4,
 "nbformat_minor": 2
}
