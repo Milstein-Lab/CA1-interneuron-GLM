{
 "cells": [
  {
   "cell_type": "code",
   "execution_count": 36,
   "metadata": {
    "scrolled": false
   },
   "outputs": [],
   "source": [
    "import mat73\n",
    "import numpy as np\n",
    "import matplotlib.pyplot as plt\n",
    "from sklearn.linear_model import RidgeCV\n",
    "\n",
    "# Load the data\n",
    "filepath = \"SSTindivsomata_GLM.mat\"\n",
    "data_dict = mat73.loadmat(filepath)\n",
    "\n",
    "num_animals = len(data_dict['animal']['ShiftLrate'])\n",
    "reorganized_data = {}\n",
    "\n",
    "# Define indices for slicing the spatial bins\n",
    "bin_slices = [\n",
    "    slice(0, 10),  \n",
    "    slice(10, 20),  \n",
    "    slice(20, 30),  \n",
    "    slice(30, 40),  \n",
    "    slice(40, 50)   \n",
    "]\n",
    "\n",
    "spatial_bin_matrix = np.zeros((50, 5))\n",
    "        \n",
    "spatial_bin_matrix[bin_slices[0], 0] = 1\n",
    "spatial_bin_matrix[bin_slices[1], 1] = 1\n",
    "spatial_bin_matrix[bin_slices[2], 2] = 1\n",
    "spatial_bin_matrix[bin_slices[3], 3] = 1\n",
    "spatial_bin_matrix[bin_slices[4], 4] = 1\n",
    "\n",
    "variable_list = []\n",
    "\n",
    "for animal_idx in range(num_animals):\n",
    "    neuron_list = []\n",
    "    \n",
    "    num_neurons = data_dict['animal']['ShiftR'][animal_idx].shape[2]\n",
    "   \n",
    "    for neuron_idx in range(1, num_neurons):\n",
    "        neuron_data = []\n",
    "        neuron_data.append(data_dict['animal']['ShiftR'][animal_idx][:, :, neuron_idx]) # Neuron activity\n",
    "        variable_list.append('Activity') if neuron_idx == 1 and animal_idx == 0 else None\n",
    "        \n",
    "        neuron_data.append(data_dict['animal']['ShiftLrate'][animal_idx])               # Lick rate\n",
    "        variable_list.append('LickRate') if neuron_idx == 1 and animal_idx == 0 else None\n",
    "\n",
    "        neuron_data.append(data_dict['animal']['ShiftV'][animal_idx])                   # Reward location (valve opening)\n",
    "        variable_list.append('RewardLocation') if neuron_idx == 1 and animal_idx == 0 else None\n",
    "\n",
    "        neuron_data.append(data_dict['animal']['ShiftRunning'][animal_idx])             # Running speed  \n",
    "        variable_list.append('RunningSpeed') if neuron_idx == 1 and animal_idx == 0 else None\n",
    "\n",
    "        combined_matrix = np.stack(neuron_data, axis=1)\n",
    "\n",
    "        # Add variable for actual reward delivered (licks at reward location)   \n",
    "        licking_on_reward = data_dict['animal']['ShiftLrate'][animal_idx] * data_dict['animal']['ShiftV'][animal_idx]      \n",
    "        licking_on_reward_expanded = licking_on_reward[:, np.newaxis, :]  \n",
    "        combined_matrix = np.concatenate((combined_matrix, licking_on_reward_expanded), axis=1)\n",
    "        variable_list.append('LickingOnReward') if neuron_idx == 1 and animal_idx == 0 else None\n",
    "\n",
    "        # Add position variables to the data matrix\n",
    "        expanded_spatial_bin_matrix = np.repeat(spatial_bin_matrix[:, :, np.newaxis], combined_matrix.shape[2], axis=2)\n",
    "        combined_matrix = np.concatenate((combined_matrix, expanded_spatial_bin_matrix), axis=1)\n",
    "        variable_list.extend(['Position_1', 'Position_2', 'Position_3', 'Position_4', 'Position_5']) if neuron_idx == 1 and animal_idx == 0 else None\n",
    "        \n",
    "        neuron_list.append(combined_matrix)\n",
    "\n",
    "    reorganized_data[f'animal_{animal_idx + 1}'] = neuron_list\n",
    "\n",
    "\n",
    "\n",
    "# print(f\"Shape of the combined matrix for the first neuron of animal_1: {reorganized_data['animal_1'][0].shape}\")\n",
    "# print(f\"Total number of animals in dictionary: {len(reorganized_data)}\")\n",
    "# print(f\"Number of neurons for animal_1: {len(reorganized_data['animal_1'])}\")        \n",
    "  "
   ]
  },
  {
   "cell_type": "code",
   "execution_count": 33,
   "metadata": {},
   "outputs": [],
   "source": [
    "GLM_params = {}\n",
    "\n",
    "for animal in reorganized_data:\n",
    "    GLM_params[animal] = {}\n",
    "    for i,neuron in enumerate(reorganized_data[animal]):\n",
    "        flattened_data = neuron.reshape(neuron.shape[0]*neuron.shape[2], neuron.shape[1]) # Combine trials and spatial bins into a single dimension\n",
    "        flattened_data = flattened_data[~np.isnan(flattened_data).any(axis=1)] # Remove rows with NaNs\n",
    "\n",
    "        normalized_data = (flattened_data - np.mean(flattened_data, axis=0)) / np.std(flattened_data, axis=0) # Z-score the data\n",
    "        design_matrix_X = flattened_data[:, 1:]\n",
    "        neuron_activity = flattened_data[:, 0]\n",
    "        \n",
    "        ridge_cv = RidgeCV(alphas=[0.1, 1, 10, 100, 1000, 5000], store_cv_results=True)\n",
    "        ridge_cv.fit(design_matrix_X, neuron_activity)\n",
    "\n",
    "        GLM_params[animal][i] = {'weights': ridge_cv.coef_, \n",
    "                                 'intercept': ridge_cv.intercept_, \n",
    "                                 'alpha': ridge_cv.alpha_, \n",
    "                                 'cv_results': np.mean(ridge_cv.cv_results_, axis=0)}\n",
    "        "
   ]
  },
  {
   "cell_type": "code",
   "execution_count": 81,
   "metadata": {},
   "outputs": [
    {
     "data": {
      "text/plain": [
       "<BarContainer object of 9 artists>"
      ]
     },
     "execution_count": 81,
     "metadata": {},
     "output_type": "execute_result"
    },
    {
     "data": {
      "image/png": "[encoded data removed]",
      "text/plain": [
       "<Figure size 640x480 with 1 Axes>"
      ]
     },
     "metadata": {},
     "output_type": "display_data"
    }
   ],
   "source": [
    "neuron_nr = 2\n",
    "\n",
    "# Bar graph\n",
    "plt.barh(variable_list[1:], GLM_params['animal_4'][neuron_nr]['weights'])"
   ]
  },
  {
   "cell_type": "code",
   "execution_count": null,
   "metadata": {},
   "outputs": [],
   "source": []
  }
 ],
 "metadata": {
  "kernelspec": {
   "display_name": "Python 3 (ipykernel)",
   "language": "python",
   "name": "python3"
  },
  "language_info": {
   "codemirror_mode": {
    "name": "ipython",
    "version": 3
   },
   "file_extension": ".py",
   "mimetype": "text/x-python",
   "name": "python",
   "nbconvert_exporter": "python",
   "pygments_lexer": "ipython3",
   "version": "3.9.15"
  }
 },
 "nbformat": 4,
 "nbformat_minor": 2
}
