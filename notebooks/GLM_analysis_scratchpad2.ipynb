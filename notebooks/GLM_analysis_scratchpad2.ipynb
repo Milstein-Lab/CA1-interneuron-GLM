{
 "cells": [
  {
   "cell_type": "code",
   "execution_count": 1,
   "metadata": {},
   "outputs": [],
   "source": [
    "import os\n",
    "os.chdir('..')\n",
    "\n",
    "import numpy as np\n",
    "import matplotlib.pyplot as plt\n",
    "import matplotlib.gridspec as gs\n",
    "from GLM_regression import *\n",
    "%load_ext autoreload\n",
    "%autoreload 2\n",
    "\n",
    "\n",
    "plt.rcParams.update({'font.size': 10,\n",
    "                    'axes.spines.right': False,\n",
    "                    'axes.spines.top':   False,\n",
    "                    'legend.frameon':       False,})\n",
    "\n",
    "\n",
    "# plt.rcParams.update({'font.size': 10,\n",
    "#                     'axes.spines.right': False,\n",
    "#                     'axes.spines.top':   False,\n",
    "#                     'legend.frameon':       False,\n",
    "#                     'font.sans-serif': 'Helvetica',\n",
    "#                     'svg.fonttype': 'none'})"
   ]
  },
  {
   "cell_type": "code",
   "execution_count": 16,
   "metadata": {},
   "outputs": [],
   "source": [
    "filename = \"SSTindivsomata_GLM.mat\"\n",
    "# filename = \"NDNFindivsomata_GLM.mat\"\n",
    "# filename = \"EC_GLM.mat\"\n",
    "\n",
    "filepath = os.path.join(\"datasets\", filename)\n",
    "reorganized_data, variable_list = preprocess_data(filepath)\n",
    "# GLM_params = fit_GLM(reorganized_data, quintile=None, regression='ridge')"
   ]
  },
  {
   "cell_type": "code",
   "execution_count": 20,
   "metadata": {},
   "outputs": [
    {
     "data": {
      "text/plain": [
       "<matplotlib.image.AxesImage at 0x7f9a0ba39370>"
      ]
     },
     "execution_count": 20,
     "metadata": {},
     "output_type": "execute_result"
    },
    {
     "data": {
      "image/png": "[encoded data removed]",
      "text/plain": [
       "<Figure size 640x480 with 1 Axes>"
      ]
     },
     "metadata": {},
     "output_type": "display_data"
    }
   ],
   "source": [
    "plt.imshow(reorganized_data['animal_3']['cell_2'][:,0,:])"
   ]
  },
  {
   "cell_type": "code",
   "execution_count": null,
   "metadata": {},
   "outputs": [],
   "source": []
  },
  {
   "cell_type": "code",
   "execution_count": null,
   "metadata": {},
   "outputs": [],
   "source": [
    "plot_combined_figure(reorganized_data, GLM_params, variable_list, model_name=filename.split('.')[0], sort_by='R2')"
   ]
  },
  {
   "cell_type": "code",
   "execution_count": null,
   "metadata": {},
   "outputs": [],
   "source": [
    "# plot_R2_distribution([GLM_params,GLM_params_nolicks, GLM_params_noRlocs], title=filename)"
   ]
  },
  {
   "cell_type": "code",
   "execution_count": null,
   "metadata": {},
   "outputs": [],
   "source": [
    "# plot_example_neuron(reorganized_data, GLM_params, variable_list, sort_by=\"Speed\")\n",
    "# plot_example_neuron(reorganized_data, GLM_params, variable_list, animal='animal_1', neuron=1)\n",
    "# plot_GLM_summary_data(GLM_params, variable_list)"
   ]
  },
  {
   "cell_type": "code",
   "execution_count": null,
   "metadata": {},
   "outputs": [],
   "source": [
    "# datasets = [\"SSTindivsomata_GLM.mat\", \"NDNFindivsomata_GLM.mat\", \"EC_GLM.mat\"]\n",
    "\n",
    "# fig = plt.figure(figsize=(18, 8))\n",
    "# axes = gs.GridSpec(nrows=len(datasets), ncols=4, hspace=0.6, wspace=0.3)\n",
    "\n",
    "# for i,filename in enumerate(datasets):\n",
    "#     filepath = os.path.join(\"datasets\", filename)\n",
    "#     reorganized_data, variable_list = load_data(filepath)\n",
    "#     GLM_params_start = fit_GLM(reorganized_data, quintile=1, regression='ridge')\n",
    "#     GLM_params_end = fit_GLM(reorganized_data, quintile=5, regression='ridge')\n",
    "#     delta_weights = calculate_delta_weights(reorganized_data, GLM_params_start, GLM_params_end)\n",
    "\n",
    "#     ax = fig.add_subplot(axes[i, 1])\n",
    "#     plot_GLM_summary_data(GLM_params_start, variable_list, ax=ax)\n",
    "#     ax.set_title('First quintile')\n",
    "    \n",
    "#     ax = fig.add_subplot(axes[i, 2])\n",
    "#     plot_GLM_summary_data(GLM_params_end, variable_list, ax=ax)\n",
    "#     ax.set_title('Last quintile')\n",
    "\n",
    "#     ax = fig.add_subplot(axes[i, 3])\n",
    "#     plot_R2_distribution(GLM_params_start, GLM_params_end, ax=ax)\n",
    "#     ax.set_xlim([0.5, 3.5])\n",
    "\n",
    "#     ax = fig.add_subplot(axes[i, 0])\n",
    "#     plot_delta_weights_summary(delta_weights, variable_list, model_name=filepath.split('.')[0], ax=ax)\n",
    "\n",
    "#     if i == 0:\n",
    "#         ax.scatter([],[], color='gray', label='Neurons', s=20)\n",
    "#         ax.scatter([],[], color='black', label='Animal avg', s=20)\n",
    "#         ax.scatter([],[], color='red', label='Overall avg', s=20)\n",
    "#         ax.legend(loc='upper right', bbox_to_anchor=(1, 1), frameon=False, handletextpad=0.5, labelspacing=0.2, borderpad=0)\n",
    "\n",
    "# fig.savefig('figures/delta_weights_summary.png', dpi=300)"
   ]
  },
  {
   "cell_type": "code",
   "execution_count": null,
   "metadata": {},
   "outputs": [],
   "source": [
    "residual_activity, avg_residuals = compute_residual_activity(GLM_params, reorganized_data)\n",
    "\n",
    "plt.plot(avg_residuals.T, c='gray', alpha=0.1)   \n",
    "plt.plot(np.mean(avg_residuals, axis=0), c='r', lw=2) \n",
    "plt.xlim([0, 50])\n",
    "plt.xlabel('Position')\n",
    "plt.show()"
   ]
  },
  {
   "cell_type": "code",
   "execution_count": null,
   "metadata": {},
   "outputs": [],
   "source": []
  },
  {
   "cell_type": "code",
   "execution_count": null,
   "metadata": {},
   "outputs": [],
   "source": [
    "def filter_neurons_by_metric(reorganized_data, GLM_params, variable_list, metric='R2', threshold=0.9, scale_type='std', keep='top'):\n",
    "    GLM_r2 = get_GLM_R2(GLM_params)\n",
    "    weights = get_GLM_weights(GLM_params, variable_list)\n",
    "\n",
    "    metrics_dict = {**weights, 'R2': GLM_r2}\n",
    "    metric_values = metrics_dict[metric]\n",
    "    \n",
    "    filtered_GLM = copy.deepcopy(GLM_params)\n",
    "    filtered_data = copy.deepcopy(reorganized_data)\n",
    "    neuron_idx = 0\n",
    "    for animal in filtered_GLM:\n",
    "        neurons_to_remove = []\n",
    "        for neuron in filtered_GLM[animal]:\n",
    "            metric_value = metric_values[neuron_idx]\n",
    "\n",
    "            # Define thresholds based on scale type\n",
    "            if scale_type == 'std':\n",
    "                mean_val = np.mean(metric_values)\n",
    "                std_val = np.std(metric_values)\n",
    "                upper_bound = mean_val + threshold * std_val\n",
    "                lower_bound = mean_val - threshold * std_val\n",
    "\n",
    "            elif scale_type == 'percentile':\n",
    "                upper_bound = np.percentile(metric_values, 100 - threshold)\n",
    "                lower_bound = np.percentile(metric_values, threshold)\n",
    "\n",
    "            elif scale_type == 'value':\n",
    "                upper_bound = threshold\n",
    "                lower_bound = threshold\n",
    "\n",
    "            # Apply filtering based on filter type\n",
    "            if (keep == 'top' and metric_value < upper_bound) or \\\n",
    "               (keep == 'bottom' and metric_value > lower_bound):\n",
    "                neurons_to_remove.append(neuron)\n",
    "\n",
    "            neuron_idx += 1\n",
    "\n",
    "        print(neurons_to_remove)\n",
    "        print(animal, filtered_GLM[animal].keys())\n",
    "        print(animal, len(filtered_data[animal]))\n",
    "\n",
    "        for neuron in neurons_to_remove:\n",
    "            filtered_GLM[animal].pop(neuron)\n",
    "        \n",
    "        filtered_data[animal] = filtered_data[animal][~np.isin(np.arange(len(filtered_data[animal])), neurons_to_remove)]\n",
    "\n",
    "    return filtered_data, filtered_GLM\n",
    "\n",
    "filtered_data, filtered_GLM = filter_neurons_by_metric(reorganized_data, GLM_params, variable_list, metric='R2', threshold=0.9, scale_type='std', keep='top')"
   ]
  },
  {
   "cell_type": "code",
   "execution_count": null,
   "metadata": {},
   "outputs": [],
   "source": [
    "a = [(2,3),3,4,5]\n",
    "idx_to_remove = slice(0,1,2,3)\n",
    "b = a[idx_to_remove]\n",
    "b"
   ]
  },
  {
   "cell_type": "code",
   "execution_count": null,
   "metadata": {},
   "outputs": [],
   "source": []
  },
  {
   "cell_type": "code",
   "execution_count": null,
   "metadata": {},
   "outputs": [],
   "source": []
  },
  {
   "cell_type": "code",
   "execution_count": null,
   "metadata": {},
   "outputs": [],
   "source": [
    "quintile = 1\n",
    "GLM_params_1 = fit_GLM(reorganized_data, quintile=quintile, regression='ridge', renormalize=False)\n",
    "vars_to_remove = variable_list.copy()[1:] + ['intercept']\n",
    "vars_to_remove.remove('Speed')\n",
    "filtered_GLM_params_1 = remove_variables_from_glm(GLM_params_1, vars_to_remove, variable_list)\n",
    "residual_activity_1, avg_residuals_1 = compute_residual_activity(filtered_GLM_params_1, reorganized_data, quintile=quintile)\n",
    "\n",
    "quintile = 5\n",
    "GLM_params_5 = fit_GLM(reorganized_data, quintile=quintile, regression='ridge', renormalize=False)\n",
    "vars_to_remove = variable_list.copy()[1:] + ['intercept']\n",
    "vars_to_remove.remove('Speed')\n",
    "filtered_GLM_params_5 = remove_variables_from_glm(GLM_params_5, vars_to_remove, variable_list)\n",
    "residual_activity_5, avg_residuals_5 = compute_residual_activity(filtered_GLM_params_5, reorganized_data, quintile=quintile)\n",
    "\n",
    "sorting_idx_5 = np.argsort(np.argmax(avg_residuals_5, axis=1))\n",
    "avg_residuals_1 = avg_residuals_1[sorting_idx_5]\n",
    "avg_residuals_5 = avg_residuals_5[sorting_idx_5]\n",
    "\n"
   ]
  },
  {
   "cell_type": "code",
   "execution_count": null,
   "metadata": {},
   "outputs": [],
   "source": [
    "fig = plt.figure(figsize=(14, 14))\n",
    "fig.suptitle(filename, fontsize=14, y=0.95)\n",
    "axes = gs.GridSpec(nrows=3, ncols=3, hspace=0.2, wspace=0.2, height_ratios=[3,1,2])\n",
    "\n",
    "vmax = np.max([np.abs(avg_residuals_1), np.abs(avg_residuals_5)])\n",
    "plot_scale = np.max([np.abs(np.mean(avg_residuals_1, axis=0))+np.std(avg_residuals_1, axis=0), np.abs(np.mean(avg_residuals_5, axis=0))+np.std(avg_residuals_5, axis=0)])\n",
    "\n",
    "# Heatmap 1\n",
    "ax = fig.add_subplot(axes[0,0])\n",
    "im = ax.imshow(avg_residuals_1, aspect='auto', cmap='bwr', vmin=-vmax, vmax=vmax)\n",
    "cbar = fig.colorbar(im, ax=ax)\n",
    "ax.set_xlim([0, 50])\n",
    "ax.set_title('First 20% of trials')\n",
    "ax.set_ylabel('Neuron #')\n",
    "\n",
    "# Plot avg 1\n",
    "ax = fig.add_subplot(axes[1,0])\n",
    "ax.plot(np.mean(avg_residuals_1, axis=0), c='k', lw=2)\n",
    "std = np.std(avg_residuals_1, axis=0)\n",
    "sem = std / np.sqrt(avg_residuals_1.shape[0])\n",
    "ax.fill_between(np.arange(50), np.mean(avg_residuals_1, axis=0)-std, np.mean(avg_residuals_1, axis=0)+std, color='gray', alpha=0.2)\n",
    "ax.hlines(0, 0, 50, color='gray', linestyle='--')\n",
    "ax.set_xlim([0, 50])\n",
    "ax.set_ylim([-plot_scale, plot_scale])\n",
    "ax.set_ylabel('Residual activity (Z-score)')\n",
    "ax.set_xlabel('Position')\n",
    "\n",
    "# Heatmap 2\n",
    "ax = fig.add_subplot(axes[0,1])\n",
    "im = ax.imshow(avg_residuals_5, aspect='auto', cmap='bwr', vmin=-vmax, vmax=vmax)\n",
    "cbar = fig.colorbar(im, ax=ax)\n",
    "ax.set_xlim([0, 50])\n",
    "ax.set_title('Last 20% of trials')\n",
    "\n",
    "# Plot avg 2\n",
    "ax = fig.add_subplot(axes[1,1])\n",
    "ax.plot(np.mean(avg_residuals_5, axis=0), c='k', lw=2)\n",
    "std = np.std(avg_residuals_5, axis=0)\n",
    "sem = std / np.sqrt(avg_residuals_5.shape[0])\n",
    "ax.fill_between(np.arange(50), np.mean(avg_residuals_5, axis=0)-std, np.mean(avg_residuals_5, axis=0)+std, color='gray', alpha=0.2)\n",
    "ax.set_xlim([0, 50])\n",
    "ax.set_ylim([-plot_scale, plot_scale])\n",
    "ax.set_xlabel('Position')\n",
    "ax.hlines(0, 0, 50, color='gray', linestyle='--')\n",
    "\n",
    "# Plot delta\n",
    "delta_residuals = avg_residuals_5 - avg_residuals_1\n",
    "ax = fig.add_subplot(axes[0,2])\n",
    "vmax = np.max(np.abs(delta_residuals))\n",
    "im = ax.imshow(delta_residuals, aspect='auto', cmap='bwr', vmin=-vmax, vmax=vmax)\n",
    "cbar = fig.colorbar(im, ax=ax)\n",
    "ax.set_xlim([0, 50])\n",
    "ax.set_title('Difference')\n",
    "\n",
    "ax = fig.add_subplot(axes[1,2])\n",
    "ax.plot(np.mean(delta_residuals, axis=0), c='k', lw=2)\n",
    "std = np.std(delta_residuals, axis=0)\n",
    "sem = std / np.sqrt(delta_residuals.shape[0])\n",
    "ax.fill_between(np.arange(50), np.mean(delta_residuals, axis=0)-std, np.mean(delta_residuals, axis=0)+std, color='gray', alpha=0.2)\n",
    "ax.set_xlim([0, 50])\n",
    "ax.set_xlabel('Position')\n",
    "ax.hlines(0, 0, 50, color='gray', linestyle='--')\n",
    "\n",
    "ax = fig.add_subplot(axes[2,:])\n",
    "delta_weights = calculate_delta_weights(GLM_params_1, GLM_params_5)\n",
    "plot_delta_weights_summary(delta_weights, variable_list, model_name=None, save=False, ax=ax)\n",
    "\n",
    "fig.savefig(f'figures/{filename.split(\".\")[0]}_residuals.png', dpi=300)\n",
    "fig.savefig(f'figures/{filename.split(\".\")[0]}_residuals.svg', dpi=300)\n"
   ]
  },
  {
   "cell_type": "code",
   "execution_count": null,
   "metadata": {},
   "outputs": [],
   "source": []
  },
  {
   "cell_type": "code",
   "execution_count": null,
   "metadata": {},
   "outputs": [],
   "source": [
    "def compute_velocity_corrected_residuals(residual_activity, reorganized_data):\n",
    "    velocity_corrected_residuals = {}\n",
    "    bin_size_cm = 180/50\n",
    "    for animal in reorganized_data:\n",
    "        velocity_corrected_residuals[animal] = {}\n",
    "        for i,neuron_data in enumerate(reorganized_data[animal]):\n",
    "            neuron_data = neuron_data[:,:,~np.isnan(neuron_data).any(axis=(0,1))]\n",
    "            velocity = neuron_data[:,3]\n",
    "            neuron_residual = residual_activity[animal][i] / velocity * bin_size_cm\n",
    "            velocity_corrected_residuals[animal][i] = neuron_residual\n",
    "    return velocity_corrected_residuals\n",
    "\n",
    "# vars_to_remove = variable_list[4:] + ['R_loc']\n",
    "# filtered_GLM_params = remove_variables_from_glm(GLM_params, vars_to_remove, variable_list)\n",
    "# residual_activity = compute_residual_activity(filtered_GLM_params, reorganized_data)\n",
    "# residual_activity = compute_velocity_corrected_residuals(residual_activity, reorganized_data)"
   ]
  },
  {
   "cell_type": "code",
   "execution_count": null,
   "metadata": {},
   "outputs": [],
   "source": [
    "plt.plot(avg_residuals_5[4])\n",
    "# plt.hist(avg_residuals_5[4], bins=50)"
   ]
  },
  {
   "cell_type": "code",
   "execution_count": null,
   "metadata": {},
   "outputs": [],
   "source": []
  }
 ],
 "metadata": {
  "kernelspec": {
   "display_name": "Python 3 (ipykernel)",
   "language": "python",
   "name": "python3"
  },
  "language_info": {
   "codemirror_mode": {
    "name": "ipython",
    "version": 3
   },
   "file_extension": ".py",
   "mimetype": "text/x-python",
   "name": "python",
   "nbconvert_exporter": "python",
   "pygments_lexer": "ipython3",
   "version": "3.9.15"
  }
 },
 "nbformat": 4,
 "nbformat_minor": 2
}
